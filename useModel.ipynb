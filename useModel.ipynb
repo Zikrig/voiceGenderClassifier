{
 "cells": [
  {
   "cell_type": "markdown",
   "metadata": {},
   "source": [
    "Подготовка датасета начинается с обрезки. \n",
    "Все файлы из папки targetsPath обрезаются и переносятся в папку pathToAudio\n",
    "При этом они сортируются. Слишком длинные или короткие отсекаются."
   ]
  },
  {
   "cell_type": "code",
   "execution_count": null,
   "metadata": {},
   "outputs": [],
   "source": [
    "import os\n",
    "from workWithAudio import *\n",
    "\n",
    "targetsPath = 'pandModel\\\\data\\\\train'\n",
    "trimmedPath = 'pandModel\\\\data\\\\trimmedNice\\\\train'\n",
    "files = os.listdir(targetsPath)\n",
    "i = 0\n",
    "for file in files:\n",
    "    i+=1\n",
    "    if(i%100 == 0):\n",
    "        print(fr\"Обработано {i} аудиозаписей\")\n",
    "\n",
    "    newAudio = workWithAudio(targetsPath, file, trimmedPath=trimmedPath)\n",
    "    newAudio.cropAndSort()"
   ]
  },
  {
   "cell_type": "markdown",
   "metadata": {},
   "source": [
    "Пропишем пути:\n",
    "Файл-каталог с [название_аудиофайла     пол] \n",
    "Путь к папке с аудиозаписями\n",
    "Для готовых датасетов\n",
    "Для готовых моделей\n",
    "Переменная frameLength определяет длину тактов. Если эта величина будет меньше 20, обучение пойдет куда быстрее, но отнимет несколько процентов от точности. Если больше 500, прорешиваться будет долго."
   ]
  },
  {
   "cell_type": "code",
   "execution_count": 1,
   "metadata": {},
   "outputs": [],
   "source": [
    "pathToFile = \"D:\\\\SD\\\\voiceGenderClassifier\\\\data\\\\targets.tsv\"\n",
    "# pathToAudio = \"D:\\\\SD\\\\voiceGenderClassifier\\\\data\\\\trimmedAudio\\\\train\"\n",
    "pathToAudio = \"D:\\\\SD\\\\voiceGenderClassifier\\\\data\\\\train\"\n",
    "pathToDataset = \"D:\\\\SD\\\\voiceGenderClassifier\\\\dataset\"\n",
    "pathToDataset = \"D:\\\\SD\\\\voiceGenderClassifier\\\\dataset_good\"\n",
    "pathToModel = \"D:\\\\SD\\\\voiceGenderClassifier\\\\models\"\n",
    "\n",
    "frameLength = 200"
   ]
  },
  {
   "cell_type": "markdown",
   "metadata": {},
   "source": [
    "Подготавливаем датасет на основе содержимого папки"
   ]
  },
  {
   "cell_type": "code",
   "execution_count": 3,
   "metadata": {},
   "outputs": [
    {
     "ename": "AttributeError",
     "evalue": "'list' object has no attribute 'shape'",
     "output_type": "error",
     "traceback": [
      "\u001b[1;31m---------------------------------------------------------------------------\u001b[0m",
      "\u001b[1;31mAttributeError\u001b[0m                            Traceback (most recent call last)",
      "\u001b[1;32md:\\SD\\voiceGenderClassifier\\useModel.ipynb Cell 6\u001b[0m line \u001b[0;36m4\n\u001b[0;32m      <a href='vscode-notebook-cell:/d%3A/SD/voiceGenderClassifier/useModel.ipynb#W5sZmlsZQ%3D%3D?line=0'>1</a>\u001b[0m \u001b[39mfrom\u001b[39;00m \u001b[39mmakeDataset\u001b[39;00m \u001b[39mimport\u001b[39;00m \u001b[39m*\u001b[39m\n\u001b[0;32m      <a href='vscode-notebook-cell:/d%3A/SD/voiceGenderClassifier/useModel.ipynb#W5sZmlsZQ%3D%3D?line=2'>3</a>\u001b[0m maked \u001b[39m=\u001b[39m MakeDataset(pathToAudio, pathToFile, pathToDataset)\n\u001b[1;32m----> <a href='vscode-notebook-cell:/d%3A/SD/voiceGenderClassifier/useModel.ipynb#W5sZmlsZQ%3D%3D?line=3'>4</a>\u001b[0m df \u001b[39m=\u001b[39m maked\u001b[39m.\u001b[39;49mcutAll(frameLength)\n\u001b[0;32m      <a href='vscode-notebook-cell:/d%3A/SD/voiceGenderClassifier/useModel.ipynb#W5sZmlsZQ%3D%3D?line=4'>5</a>\u001b[0m df\u001b[39m.\u001b[39mhead()\n",
      "File \u001b[1;32md:\\SD\\voiceGenderClassifier\\makeDataset.py:58\u001b[0m, in \u001b[0;36mMakeDataset.cutAll\u001b[1;34m(self, lenOfTact, mx)\u001b[0m\n\u001b[0;32m     52\u001b[0m         finSexList\u001b[39m.\u001b[39mappend(sex)\n\u001b[0;32m     54\u001b[0m \u001b[39m# df = pd.DataFrame({\u001b[39;00m\n\u001b[0;32m     55\u001b[0m \u001b[39m#     'spectr': finSpectrList,\u001b[39;00m\n\u001b[0;32m     56\u001b[0m \u001b[39m#     'sex': finSexList\u001b[39;00m\n\u001b[0;32m     57\u001b[0m \u001b[39m# })\u001b[39;00m\n\u001b[1;32m---> 58\u001b[0m \u001b[39mprint\u001b[39m(finSpectrList\u001b[39m.\u001b[39;49mshape)\n\u001b[0;32m     59\u001b[0m cols \u001b[39m=\u001b[39m [\u001b[39mfr\u001b[39m\u001b[39m\"\u001b[39m\u001b[39mspectr_\u001b[39m\u001b[39m{\u001b[39;00mjj\u001b[39m}\u001b[39;00m\u001b[39m\"\u001b[39m \u001b[39mfor\u001b[39;00m jj \u001b[39min\u001b[39;00m \u001b[39mrange\u001b[39m(\u001b[39mlen\u001b[39m(finSpectrList))]\n\u001b[0;32m     60\u001b[0m df \u001b[39m=\u001b[39m pd\u001b[39m.\u001b[39mDataFrame(finSpectrList, columns\u001b[39m=\u001b[39mcols)\n",
      "\u001b[1;31mAttributeError\u001b[0m: 'list' object has no attribute 'shape'"
     ]
    }
   ],
   "source": [
    "from makeDataset import *\n",
    "\n",
    "maked = MakeDataset(pathToAudio, pathToFile, pathToDataset)\n",
    "df = maked.cutAll(frameLength)\n",
    "df.head()"
   ]
  },
  {
   "cell_type": "markdown",
   "metadata": {},
   "source": [
    "...Или просто получаем его из файла датасета"
   ]
  },
  {
   "cell_type": "code",
   "execution_count": 7,
   "metadata": {},
   "outputs": [],
   "source": [
    "import pandas as pd\n",
    "import numpy as np\n",
    "# df = pd.read_csv(pathToDataset+\"\\\\dataset_60_9656.scv\")\n",
    "df = pd.read_csv(pathToDataset+'\\\\dataset_200_100000.scv')"
   ]
  },
  {
   "cell_type": "markdown",
   "metadata": {},
   "source": [
    "Нарезаем датасет на переменные. test_size и random_state можно менять, что даст ощутимый прирост точности.\n",
    "Впрочем, вероятно он довольно рандомный и связан с не совсем чистой обрезкой массива обучения."
   ]
  },
  {
   "cell_type": "code",
   "execution_count": 1,
   "metadata": {},
   "outputs": [
    {
     "ename": "NameError",
     "evalue": "name 'df' is not defined",
     "output_type": "error",
     "traceback": [
      "\u001b[1;31m---------------------------------------------------------------------------\u001b[0m",
      "\u001b[1;31mNameError\u001b[0m                                 Traceback (most recent call last)",
      "\u001b[1;32md:\\SD\\voiceGenderClassifier\\useModel.ipynb Cell 10\u001b[0m line \u001b[0;36m4\n\u001b[0;32m      <a href='vscode-notebook-cell:/d%3A/SD/voiceGenderClassifier/useModel.ipynb#X12sZmlsZQ%3D%3D?line=1'>2</a>\u001b[0m \u001b[39mfrom\u001b[39;00m \u001b[39msklearn\u001b[39;00m\u001b[39m.\u001b[39;00m\u001b[39mpreprocessing\u001b[39;00m \u001b[39mimport\u001b[39;00m StandardScaler\n\u001b[0;32m      <a href='vscode-notebook-cell:/d%3A/SD/voiceGenderClassifier/useModel.ipynb#X12sZmlsZQ%3D%3D?line=2'>3</a>\u001b[0m scaler \u001b[39m=\u001b[39m StandardScaler()\n\u001b[1;32m----> <a href='vscode-notebook-cell:/d%3A/SD/voiceGenderClassifier/useModel.ipynb#X12sZmlsZQ%3D%3D?line=3'>4</a>\u001b[0m scaled_x \u001b[39m=\u001b[39m scaler\u001b[39m.\u001b[39mfit_transform(df\u001b[39m.\u001b[39mdrop(columns\u001b[39m=\u001b[39m\u001b[39m'\u001b[39m\u001b[39msex\u001b[39m\u001b[39m'\u001b[39m))\n\u001b[0;32m      <a href='vscode-notebook-cell:/d%3A/SD/voiceGenderClassifier/useModel.ipynb#X12sZmlsZQ%3D%3D?line=5'>6</a>\u001b[0m X_train, X_test, y_train, y_test \u001b[39m=\u001b[39m train_test_split(\n\u001b[0;32m      <a href='vscode-notebook-cell:/d%3A/SD/voiceGenderClassifier/useModel.ipynb#X12sZmlsZQ%3D%3D?line=6'>7</a>\u001b[0m         scaled_x, df\u001b[39m.\u001b[39msex, test_size\u001b[39m=\u001b[39m\u001b[39m0.1\u001b[39m, random_state\u001b[39m=\u001b[39m\u001b[39m705\u001b[39m)\n",
      "\u001b[1;31mNameError\u001b[0m: name 'df' is not defined"
     ]
    }
   ],
   "source": [
    "from sklearn.model_selection import *\n",
    "from sklearn.preprocessing import StandardScaler\n",
    "scaler = StandardScaler()\n",
    "scaled_x = scaler.fit_transform(df.drop(columns='sex'))\n",
    "\n",
    "X_train, X_test, y_train, y_test = train_test_split(\n",
    "        scaled_x, df.sex, test_size=0.1, random_state=705)\n"
   ]
  },
  {
   "cell_type": "markdown",
   "metadata": {},
   "source": [
    "ExtraTreesClassifier показал себя лучше других алгоритмов в данном случае.\n",
    "Параметр n_estimators можно понизить до 100, если нам не нужны полпроцента.\n",
    "Текущая максимальная точность: 0.9788\n",
    "Параметры:\n",
    "frameLength = 200\n",
    "test_size=0.1   // Это не менять, как и файл датасета\n",
    "random_state=705 // Иначе потеряем процент. Или это не важно?\n",
    "ExtraTreesClassifier(n_estimators=500)"
   ]
  },
  {
   "cell_type": "code",
   "execution_count": null,
   "metadata": {},
   "outputs": [],
   "source": [
    "from sklearn.ensemble import ExtraTreesClassifier\n",
    "\n",
    "etc = ExtraTreesClassifier(n_estimators=30)\n",
    "etc.fit(X_train, y_train)\n",
    "score = etc.score(X_test, y_test)\n",
    "print(score)\n",
    "\n",
    "model = etc"
   ]
  },
  {
   "cell_type": "markdown",
   "metadata": {},
   "source": [
    "Сохраняем модель, включая в имя информацию об алгоритме, длине такта и точности до 4 знака"
   ]
  },
  {
   "cell_type": "code",
   "execution_count": 10,
   "metadata": {},
   "outputs": [],
   "source": [
    "from pickle import dump\n",
    "import os.path\n",
    "\n",
    "scTxt = str(int(score*10000))\n",
    "pathToFile = pathToModel+fr'//model_new_{model.__class__.__name__}_{frameLength}_{scTxt}.sav'\n",
    "if(not os.path.isfile(pathToFile)):\n",
    "    open(pathToFile, 'x')\n",
    "dump(model, open(pathToFile, 'wb'))"
   ]
  }
 ],
 "metadata": {
  "kernelspec": {
   "display_name": "f",
   "language": "python",
   "name": "python3"
  },
  "language_info": {
   "codemirror_mode": {
    "name": "ipython",
    "version": 3
   },
   "file_extension": ".py",
   "mimetype": "text/x-python",
   "name": "python",
   "nbconvert_exporter": "python",
   "pygments_lexer": "ipython3",
   "version": "3.10.9"
  }
 },
 "nbformat": 4,
 "nbformat_minor": 2
}
